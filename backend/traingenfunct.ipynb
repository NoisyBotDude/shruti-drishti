{
 "cells": [
  {
   "cell_type": "markdown",
   "metadata": {},
   "source": [
    "# Data Processing functions"
   ]
  },
  {
   "cell_type": "markdown",
   "metadata": {},
   "source": [
    "TODOS\n",
    "- [] Get mediapipe functions\n",
    "- [] process to .py file"
   ]
  },
  {
   "cell_type": "code",
   "execution_count": 3,
   "metadata": {},
   "outputs": [],
   "source": [
    "import pandas as pd\n",
    "import os\n",
    "\n",
    "def create_dataframe(directory):\n",
    "    file_dfs = []  # List to store DataFrames for each file\n",
    "\n",
    "    for root, dirs, files in os.walk(directory):\n",
    "        for file in files:\n",
    "            if file.endswith('.parquet'):\n",
    "                file_path = os.path.join(root, file)\n",
    "                video_id = os.path.splitext(os.path.basename(file))[0]\n",
    "                phrase = os.path.basename(root)\n",
    "\n",
    "                # Create a DataFrame for the current file\n",
    "                file_df = pd.DataFrame({\n",
    "                    'video_id': [video_id],\n",
    "                    'phrase': [phrase],\n",
    "                    'path': [file_path]\n",
    "                })\n",
    "\n",
    "                file_dfs.append(file_df)  # Append DataFrame to the list\n",
    "\n",
    "    # Concatenate all DataFrames in the list\n",
    "    file_df = pd.concat(file_dfs, ignore_index=True)\n",
    "\n",
    "    return file_df\n",
    "\n",
    "def output_dataframe(path, output_file_name):\n",
    "    create_dataframe(path).to_csv(output_file_name, index=False)"
   ]
  },
  {
   "cell_type": "code",
   "execution_count": 4,
   "metadata": {},
   "outputs": [],
   "source": [
    "output_dataframe('data', 'train.csv')"
   ]
  }
 ],
 "metadata": {
  "kernelspec": {
   "display_name": "isl",
   "language": "python",
   "name": "python3"
  },
  "language_info": {
   "codemirror_mode": {
    "name": "ipython",
    "version": 3
   },
   "file_extension": ".py",
   "mimetype": "text/x-python",
   "name": "python",
   "nbconvert_exporter": "python",
   "pygments_lexer": "ipython3",
   "version": "3.11.7"
  }
 },
 "nbformat": 4,
 "nbformat_minor": 2
}
